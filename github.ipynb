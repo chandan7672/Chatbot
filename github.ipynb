{
 "cells": [
  {
   "cell_type": "code",
   "execution_count": 10,
   "id": "a1b02657-dc0e-48ac-9e97-97521dab5b10",
   "metadata": {},
   "outputs": [],
   "source": [
    "import pandas as pd \n",
    "import numpy as np"
   ]
  },
  {
   "cell_type": "code",
   "execution_count": 16,
   "id": "316d8cc2-bbe4-4cda-bf6b-a511cf1c3f9c",
   "metadata": {},
   "outputs": [
    {
     "data": {
      "text/plain": [
       "array([1, 2, 3])"
      ]
     },
     "execution_count": 16,
     "metadata": {},
     "output_type": "execute_result"
    }
   ],
   "source": [
    "a = np.array([1,2,3])\n",
    "a"
   ]
  },
  {
   "cell_type": "code",
   "execution_count": null,
   "id": "f278944d-793e-40ff-bddd-1d25a48d2095",
   "metadata": {},
   "outputs": [
    {
     "name": "stdout",
     "output_type": "stream",
     "text": [
      "ChatBot: Hello! I’m your chatbot. Type 'bye' to exit.\n",
      "--------------------------------------------------\n"
     ]
    },
    {
     "name": "stdin",
     "output_type": "stream",
     "text": [
      "You:  hjygf5uuitg\n"
     ]
    },
    {
     "name": "stdout",
     "output_type": "stream",
     "text": [
      "ChatBot: Sorry, I didn’t understand that. Can you try asking in a different way?\n"
     ]
    },
    {
     "name": "stdin",
     "output_type": "stream",
     "text": [
      "You:  hii\n"
     ]
    },
    {
     "name": "stdout",
     "output_type": "stream",
     "text": [
      "ChatBot: Hello! How can I assist you today?\n"
     ]
    },
    {
     "name": "stdin",
     "output_type": "stream",
     "text": [
      "You:  how are you\n"
     ]
    },
    {
     "name": "stdout",
     "output_type": "stream",
     "text": [
      "ChatBot: I'm functioning as expected! How can I help you?\n"
     ]
    },
    {
     "name": "stdin",
     "output_type": "stream",
     "text": [
      "You:  hoe to you work\n"
     ]
    },
    {
     "name": "stdout",
     "output_type": "stream",
     "text": [
      "ChatBot: Sorry, I didn’t understand that. Can you try asking in a different way?\n"
     ]
    }
   ],
   "source": [
    "# Rule-based Chatbot in Python\n",
    "\n",
    "def get_response(user_input):\n",
    "    \"\"\"Function to match user input with predefined rules and return a response\"\"\"\n",
    "    user_input = user_input.lower()\n",
    "\n",
    "    # Greetings\n",
    "    if \"hello\" in user_input or \"hi\" in user_input or \"hey\" in user_input:\n",
    "        return \"Hello! How can I assist you today?\"\n",
    "\n",
    "    # Asking about chatbot\n",
    "    elif \"your name\" in user_input:\n",
    "        return \"I’m ChatBot 1.0, your virtual assistant.\"\n",
    "\n",
    "    elif \"who are you\" in user_input:\n",
    "        return \"I’m a rule-based chatbot created to help you with basic queries.\"\n",
    "\n",
    "    # How chatbot is doing\n",
    "    elif \"how are you\" in user_input:\n",
    "        return \"I'm functioning as expected! How can I help you?\"\n",
    "\n",
    "    # Help-related queries\n",
    "    elif \"help\" in user_input or \"support\" in user_input:\n",
    "        return (\n",
    "            \"Sure, I can help! You can ask me about:\\n\"\n",
    "            \"- My name\\n\"\n",
    "            \"- How I work\\n\"\n",
    "            \"- Say hello or hi to greet me\\n\"\n",
    "            \"- Type 'bye' to end the chat\"\n",
    "        )\n",
    "\n",
    "    # Asking about weather (simulated response)\n",
    "    elif \"weather\" in user_input:\n",
    "        return \"I can't check real-time weather, but it's always sunny in my world! 🌞\"\n",
    "\n",
    "    # Exit\n",
    "    elif \"bye\" in user_input or \"exit\" in user_input or \"goodbye\" in user_input:\n",
    "        return \"Goodbye! Have a wonderful day. 👋\"\n",
    "\n",
    "    # Fallback for unrecognized input\n",
    "    else:\n",
    "        return \"Sorry, I didn’t understand that. Can you try asking in a different way?\"\n",
    "\n",
    "\n",
    "def chatbot():\n",
    "    \"\"\"Main function to start the chatbot\"\"\"\n",
    "    print(\"ChatBot: Hello! I’m your chatbot. Type 'bye' to exit.\")\n",
    "    print(\"-\" * 50)\n",
    "\n",
    "    while True:\n",
    "        user_input = input(\"You: \")\n",
    "        response = get_response(user_input)\n",
    "\n",
    "        print(\"ChatBot:\", response)\n",
    "\n",
    "        if \"bye\" in user_input.lower() or \"exit\" in user_input.lower():\n",
    "            break\n",
    "\n",
    "\n",
    "# Start the chatbot\n",
    "if __name__ == \"__main__\":\n",
    "    chatbot()\n"
   ]
  }
 ],
 "metadata": {
  "kernelspec": {
   "display_name": "Python [conda env:base] *",
   "language": "python",
   "name": "conda-base-py"
  },
  "language_info": {
   "codemirror_mode": {
    "name": "ipython",
    "version": 3
   },
   "file_extension": ".py",
   "mimetype": "text/x-python",
   "name": "python",
   "nbconvert_exporter": "python",
   "pygments_lexer": "ipython3",
   "version": "3.12.7"
  }
 },
 "nbformat": 4,
 "nbformat_minor": 5
}
